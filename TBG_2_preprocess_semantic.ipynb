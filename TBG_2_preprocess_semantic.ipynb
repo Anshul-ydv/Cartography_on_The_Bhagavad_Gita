{
  "nbformat": 4,
  "nbformat_minor": 0,
  "metadata": {
    "colab": {
      "provenance": []
    },
    "kernelspec": {
      "name": "python3",
      "display_name": "Python 3"
    },
    "language_info": {
      "name": "python"
    }
  },
  "cells": [
    {
      "cell_type": "code",
      "source": [
        "import nltk\n",
        "from nltk.corpus import stopwords\n",
        "from nltk.stem import PorterStemmer\n",
        "from nltk.tokenize import word_tokenize\n",
        "import re\n",
        "import numpy as np\n",
        "import pandas as pd\n",
        "import math\n",
        "import pickle\n",
        "from collections import Counter\n",
        "import unicodedata"
      ],
      "metadata": {
        "id": "xAB14XcAQl5y"
      },
      "execution_count": null,
      "outputs": []
    },
    {
      "cell_type": "code",
      "source": [
        "nltk.download('stopwords')\n",
        "nltk.download('punkt_tab')"
      ],
      "metadata": {
        "colab": {
          "base_uri": "https://localhost:8080/"
        },
        "id": "ZlDXk_Offyy_",
        "outputId": "201c1a97-f194-4729-f23a-48db3cce5963"
      },
      "execution_count": null,
      "outputs": [
        {
          "output_type": "stream",
          "name": "stderr",
          "text": [
            "[nltk_data] Downloading package stopwords to /root/nltk_data...\n",
            "[nltk_data]   Package stopwords is already up-to-date!\n",
            "[nltk_data] Downloading package punkt_tab to /root/nltk_data...\n",
            "[nltk_data]   Package punkt_tab is already up-to-date!\n"
          ]
        },
        {
          "output_type": "execute_result",
          "data": {
            "text/plain": [
              "True"
            ]
          },
          "metadata": {},
          "execution_count": 29
        }
      ]
    },
    {
      "cell_type": "code",
      "source": [
        "Stopwords = set(stopwords.words('english'))\n",
        "ps=PorterStemmer()"
      ],
      "metadata": {
        "id": "ObcOVj_ffvPr"
      },
      "execution_count": null,
      "outputs": []
    },
    {
      "cell_type": "code",
      "source": [
        "data = pd.read_csv('/content/English.csv')"
      ],
      "metadata": {
        "id": "GJs_i2I-g34q"
      },
      "execution_count": null,
      "outputs": []
    },
    {
      "cell_type": "code",
      "source": [
        "def finding_all_unique_words_and_freq(words):\n",
        "    words_unique = []\n",
        "    word_freq = {}\n",
        "    for word in words:\n",
        "        if word not in words_unique:\n",
        "            words_unique.append(word)\n",
        "    for word in words_unique:\n",
        "        word_freq[word] = words.count(word)\n",
        "    return word_freq\n",
        "def finding_freq_of_word_in_doc(word,words):\n",
        "    freq = words.count(word)\n",
        "\n",
        "def remove_special_characters(text):\n",
        "    regex = re.compile('[^a-zA-Z\\s]')\n",
        "    text_returned = re.sub(regex,' ',text)\n",
        "    return text_returned\n",
        "def strip_accents(text):\n",
        "    return ''.join(c for c in unicodedata.normalize('NFKD', text) if unicodedata.category(c) != 'Mn')"
      ],
      "metadata": {
        "id": "FxlEnj7pgpua"
      },
      "execution_count": null,
      "outputs": []
    },
    {
      "cell_type": "code",
      "source": [
        "doc_words=[]\n",
        "dict_global = {}\n",
        "idx = 0\n",
        "files_with_index = {}\n",
        "for index in range(len(data)):\n",
        "    fname=str(data.loc[index]['Chapter'])+\".\"+str(data.loc[index]['Verse'])\n",
        "    sloka=data.loc[index]['Sloke']\n",
        "    text=data.loc[index]['Commentary']\n",
        "    text=strip_accents(text)\n",
        "    text = remove_special_characters(text)\n",
        "    words = word_tokenize(text)\n",
        "    words = [word for word in words if len(words)>1]\n",
        "    words = [word.lower() for word in words]\n",
        "    words = [ps.stem(word) for word in words]\n",
        "    words = [word for word in words if word not in Stopwords]\n",
        "    doc_words.append(words)\n",
        "    dict_global.update(finding_all_unique_words_and_freq(words))\n",
        "    files_with_index[idx] = fname\n",
        "    idx = idx + 1\n",
        "\n",
        "unique_words_all = set(dict_global.keys())"
      ],
      "metadata": {
        "id": "gZMo8eIvgtQN"
      },
      "execution_count": null,
      "outputs": []
    },
    {
      "cell_type": "code",
      "source": [
        "tf={}\n",
        "df={}\n",
        "for i in unique_words_all:\n",
        "    tf[i]={}\n",
        "    df[i]=0"
      ],
      "metadata": {
        "id": "o0oLcKCNgvTx"
      },
      "execution_count": null,
      "outputs": []
    },
    {
      "cell_type": "code",
      "source": [
        "idx=0\n",
        "Ltot=0\n",
        "Ld={}\n",
        "for index in range(len(data)):\n",
        "    text=data.loc[index]['Commentary']\n",
        "    text=strip_accents(text)\n",
        "    text = remove_special_characters(text)\n",
        "    words = word_tokenize(text)\n",
        "    words = [word.lower() for word in words]\n",
        "    words=[ps.stem(word) for word in words]\n",
        "    Ld[idx]=len(words) #len of current doc\n",
        "    Ltot=Ltot+len(words) #sum of lens of all the docs\n",
        "    words=[word for word in words if word not in Stopwords]\n",
        "    counter=Counter(words)\n",
        "    for i in counter.keys():\n",
        "        df[i]=df[i]+1\n",
        "        tf[i][idx]=counter[i]\n",
        "    idx=idx+1"
      ],
      "metadata": {
        "id": "6OB4Fd0VhWRy"
      },
      "execution_count": null,
      "outputs": []
    },
    {
      "cell_type": "code",
      "source": [
        "doc_norm={}\n",
        "idx=0\n",
        "for i in doc_words:\n",
        "    l2=0\n",
        "    for j in set(i):\n",
        "        l2+=(i.count(j)*math.log(len(files_with_index)/df[j]))**2\n",
        "    doc_norm[idx]=(math.sqrt(l2))\n",
        "    idx+=1"
      ],
      "metadata": {
        "id": "HWwZz8iphYIE"
      },
      "execution_count": null,
      "outputs": []
    },
    {
      "cell_type": "code",
      "source": [
        "with open('pickles/posting_list.pkl','wb') as file:\n",
        "    pickle.dump(tf,file)\n",
        "    file.close()\n",
        "\n",
        "with open('pickles/df.pkl','wb') as file:\n",
        "    pickle.dump(df,file)\n",
        "    file.close()\n",
        "\n",
        "with open('pickles/doc_len.pkl','wb') as file:\n",
        "    pickle.dump(Ld,file)\n",
        "    file.close()"
      ],
      "metadata": {
        "id": "nTVwf-Ukhaf7"
      },
      "execution_count": null,
      "outputs": []
    },
    {
      "cell_type": "code",
      "source": [
        "a_file = open(\"pickles/file_idx.pkl\", \"wb\")\n",
        "pickle.dump(files_with_index, a_file)\n",
        "a_file.close()\n",
        "a_file = open(\"pickles/unique_words_all.pkl\", \"wb\")\n",
        "pickle.dump(unique_words_all , a_file)\n",
        "a_file.close()"
      ],
      "metadata": {
        "id": "R8j6spwrhd_t"
      },
      "execution_count": null,
      "outputs": []
    },
    {
      "cell_type": "code",
      "source": [
        "with open('pickles/doc_words.pkl','wb') as file:\n",
        "    pickle.dump(doc_words,file)\n",
        "    file.close()\n",
        "\n",
        "with open('pickles/doc_norm.pkl','wb') as file:\n",
        "    pickle.dump(doc_norm,file)\n",
        "    file.close()"
      ],
      "metadata": {
        "id": "55Jcr8zPhd9H"
      },
      "execution_count": null,
      "outputs": []
    }
  ]
}