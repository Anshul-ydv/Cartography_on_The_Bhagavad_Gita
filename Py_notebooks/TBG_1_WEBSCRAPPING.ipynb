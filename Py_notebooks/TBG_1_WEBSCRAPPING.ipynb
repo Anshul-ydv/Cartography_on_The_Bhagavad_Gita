{
  "nbformat": 4,
  "nbformat_minor": 0,
  "metadata": {
    "colab": {
      "provenance": []
    },
    "kernelspec": {
      "name": "python3",
      "display_name": "Python 3"
    },
    "language_info": {
      "name": "python"
    }
  },
  "cells": [
    {
      "cell_type": "code",
      "execution_count": null,
      "metadata": {
        "id": "h01ewB9MenBV"
      },
      "outputs": [],
      "source": [
        "import pandas as pd\n",
        "from bs4 import BeautifulSoup\n",
        "import requests"
      ]
    },
    {
      "cell_type": "code",
      "source": [
        "chapters={\n",
        "    1:47,\n",
        "    2:72,\n",
        "    3:43,\n",
        "    4:42,\n",
        "    5:29,\n",
        "    6:47,\n",
        "    7:30,\n",
        "    8:28,\n",
        "    9:34,\n",
        "    10:42,\n",
        "    11:55,\n",
        "    12:20,\n",
        "    13:35,\n",
        "    14:27,\n",
        "    15:20,\n",
        "    16:24,\n",
        "    17:28,\n",
        "    18:78\n",
        "}"
      ],
      "metadata": {
        "id": "74EJdCo3hahK"
      },
      "execution_count": null,
      "outputs": []
    },
    {
      "cell_type": "code",
      "source": [
        "sloke_table=pd.read_csv('sloke.csv')"
      ],
      "metadata": {
        "id": "W54ezrJShhvC"
      },
      "execution_count": null,
      "outputs": []
    },
    {
      "cell_type": "code",
      "source": [
        "total_slokes=[]\n",
        "for chapter in chapters:\n",
        "    for verse in range(1,chapters[chapter]+1):\n",
        "        sloke=[chapter,verse]\n",
        "        url='https://vedabase.io/en/library/bg/'+str(chapter)+'/'+str(verse)+'/'\n",
        "        r=requests.get(url)\n",
        "        soup = BeautifulSoup(r.content, 'html5lib')\n",
        "        content=soup.findAll('div',{'class':['r-devanagari','r-lang-en']})\n",
        "        if len(content)==0:\n",
        "            continue\n",
        "        sloke.append(content[0].text)\n",
        "        content=content[4:]\n",
        "        if len(content)==0:\n",
        "            continue\n",
        "        s=''\n",
        "        for i in content:\n",
        "            s=s+i.text\n",
        "        sloke.append(s)\n",
        "        total_slokes.append(sloke)"
      ],
      "metadata": {
        "colab": {
          "base_uri": "https://localhost:8080/"
        },
        "id": "VktJ8AWxhj1q",
        "outputId": "3e5d2330-7478-4448-f02d-9c52cbf2c03f"
      },
      "execution_count": null,
      "outputs": [
        {
          "output_type": "stream",
          "name": "stderr",
          "text": [
            "<ipython-input-5-26176be779b5>:8: DeprecationWarning: Call to deprecated method findAll. (Replaced by find_all) -- Deprecated since version 4.0.0.\n",
            "  content=soup.findAll('div',{'class':['r-devanagari','r-lang-en']})\n"
          ]
        }
      ]
    },
    {
      "cell_type": "code",
      "source": [
        "data=pd.DataFrame(total_slokes,columns=['Chapter','Verse','Sloke','Commentary'])"
      ],
      "metadata": {
        "id": "RazyqNLAzW_b"
      },
      "execution_count": null,
      "outputs": []
    },
    {
      "cell_type": "code",
      "source": [
        "data.to_csv('English.csv',index=False)"
      ],
      "metadata": {
        "id": "IYEv7Z-9c8yy"
      },
      "execution_count": null,
      "outputs": []
    }
  ]
}
